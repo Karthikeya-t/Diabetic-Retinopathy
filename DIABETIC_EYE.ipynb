{
  "nbformat": 4,
  "nbformat_minor": 0,
  "metadata": {
    "colab": {
      "name": "DIABETIC_EYE.ipynb",
      "provenance": [],
      "collapsed_sections": []
    },
    "kernelspec": {
      "name": "python3",
      "display_name": "Python 3"
    },
    "language_info": {
      "name": "python"
    }
  },
  "cells": [
    {
      "cell_type": "code",
      "metadata": {
        "colab": {
          "base_uri": "https://localhost:8080/"
        },
        "id": "rXS9vpLFGXXF",
        "outputId": "8e3d6965-c8ed-4da6-d3f5-e6c0242524d0"
      },
      "source": [
        "from google.colab import drive  \n",
        "drive._mount('/content/drive')  "
      ],
      "execution_count": 1,
      "outputs": [
        {
          "output_type": "stream",
          "name": "stdout",
          "text": [
            "Mounted at /content/drive\n"
          ]
        }
      ]
    },
    {
      "cell_type": "code",
      "metadata": {
        "colab": {
          "base_uri": "https://localhost:8080/"
        },
        "id": "zwV-daVNRJUB",
        "outputId": "4790dbe1-ef6a-4a4c-88fa-e5c1c05c5852"
      },
      "source": [
        "!pip install tensorflow\n",
        "import tensorflow as tf\n",
        "!pip install -q keras\n",
        "import keras"
      ],
      "execution_count": 2,
      "outputs": [
        {
          "output_type": "stream",
          "name": "stdout",
          "text": [
            "Requirement already satisfied: tensorflow in /usr/local/lib/python3.7/dist-packages (2.7.0)\n",
            "Requirement already satisfied: tensorflow-estimator<2.8,~=2.7.0rc0 in /usr/local/lib/python3.7/dist-packages (from tensorflow) (2.7.0)\n",
            "Requirement already satisfied: termcolor>=1.1.0 in /usr/local/lib/python3.7/dist-packages (from tensorflow) (1.1.0)\n",
            "Requirement already satisfied: tensorboard~=2.6 in /usr/local/lib/python3.7/dist-packages (from tensorflow) (2.7.0)\n",
            "Requirement already satisfied: opt-einsum>=2.3.2 in /usr/local/lib/python3.7/dist-packages (from tensorflow) (3.3.0)\n",
            "Requirement already satisfied: tensorflow-io-gcs-filesystem>=0.21.0 in /usr/local/lib/python3.7/dist-packages (from tensorflow) (0.21.0)\n",
            "Requirement already satisfied: keras-preprocessing>=1.1.1 in /usr/local/lib/python3.7/dist-packages (from tensorflow) (1.1.2)\n",
            "Requirement already satisfied: numpy>=1.14.5 in /usr/local/lib/python3.7/dist-packages (from tensorflow) (1.19.5)\n",
            "Requirement already satisfied: absl-py>=0.4.0 in /usr/local/lib/python3.7/dist-packages (from tensorflow) (0.12.0)\n",
            "Requirement already satisfied: protobuf>=3.9.2 in /usr/local/lib/python3.7/dist-packages (from tensorflow) (3.17.3)\n",
            "Requirement already satisfied: flatbuffers<3.0,>=1.12 in /usr/local/lib/python3.7/dist-packages (from tensorflow) (2.0)\n",
            "Requirement already satisfied: wrapt>=1.11.0 in /usr/local/lib/python3.7/dist-packages (from tensorflow) (1.13.3)\n",
            "Requirement already satisfied: keras<2.8,>=2.7.0rc0 in /usr/local/lib/python3.7/dist-packages (from tensorflow) (2.7.0)\n",
            "Requirement already satisfied: google-pasta>=0.1.1 in /usr/local/lib/python3.7/dist-packages (from tensorflow) (0.2.0)\n",
            "Requirement already satisfied: gast<0.5.0,>=0.2.1 in /usr/local/lib/python3.7/dist-packages (from tensorflow) (0.4.0)\n",
            "Requirement already satisfied: libclang>=9.0.1 in /usr/local/lib/python3.7/dist-packages (from tensorflow) (12.0.0)\n",
            "Requirement already satisfied: typing-extensions>=3.6.6 in /usr/local/lib/python3.7/dist-packages (from tensorflow) (3.10.0.2)\n",
            "Requirement already satisfied: six>=1.12.0 in /usr/local/lib/python3.7/dist-packages (from tensorflow) (1.15.0)\n",
            "Requirement already satisfied: wheel<1.0,>=0.32.0 in /usr/local/lib/python3.7/dist-packages (from tensorflow) (0.37.0)\n",
            "Requirement already satisfied: astunparse>=1.6.0 in /usr/local/lib/python3.7/dist-packages (from tensorflow) (1.6.3)\n",
            "Requirement already satisfied: h5py>=2.9.0 in /usr/local/lib/python3.7/dist-packages (from tensorflow) (3.1.0)\n",
            "Requirement already satisfied: grpcio<2.0,>=1.24.3 in /usr/local/lib/python3.7/dist-packages (from tensorflow) (1.41.1)\n",
            "Requirement already satisfied: cached-property in /usr/local/lib/python3.7/dist-packages (from h5py>=2.9.0->tensorflow) (1.5.2)\n",
            "Requirement already satisfied: werkzeug>=0.11.15 in /usr/local/lib/python3.7/dist-packages (from tensorboard~=2.6->tensorflow) (1.0.1)\n",
            "Requirement already satisfied: google-auth-oauthlib<0.5,>=0.4.1 in /usr/local/lib/python3.7/dist-packages (from tensorboard~=2.6->tensorflow) (0.4.6)\n",
            "Requirement already satisfied: markdown>=2.6.8 in /usr/local/lib/python3.7/dist-packages (from tensorboard~=2.6->tensorflow) (3.3.4)\n",
            "Requirement already satisfied: requests<3,>=2.21.0 in /usr/local/lib/python3.7/dist-packages (from tensorboard~=2.6->tensorflow) (2.23.0)\n",
            "Requirement already satisfied: tensorboard-plugin-wit>=1.6.0 in /usr/local/lib/python3.7/dist-packages (from tensorboard~=2.6->tensorflow) (1.8.0)\n",
            "Requirement already satisfied: google-auth<3,>=1.6.3 in /usr/local/lib/python3.7/dist-packages (from tensorboard~=2.6->tensorflow) (1.35.0)\n",
            "Requirement already satisfied: setuptools>=41.0.0 in /usr/local/lib/python3.7/dist-packages (from tensorboard~=2.6->tensorflow) (57.4.0)\n",
            "Requirement already satisfied: tensorboard-data-server<0.7.0,>=0.6.0 in /usr/local/lib/python3.7/dist-packages (from tensorboard~=2.6->tensorflow) (0.6.1)\n",
            "Requirement already satisfied: rsa<5,>=3.1.4 in /usr/local/lib/python3.7/dist-packages (from google-auth<3,>=1.6.3->tensorboard~=2.6->tensorflow) (4.7.2)\n",
            "Requirement already satisfied: pyasn1-modules>=0.2.1 in /usr/local/lib/python3.7/dist-packages (from google-auth<3,>=1.6.3->tensorboard~=2.6->tensorflow) (0.2.8)\n",
            "Requirement already satisfied: cachetools<5.0,>=2.0.0 in /usr/local/lib/python3.7/dist-packages (from google-auth<3,>=1.6.3->tensorboard~=2.6->tensorflow) (4.2.4)\n",
            "Requirement already satisfied: requests-oauthlib>=0.7.0 in /usr/local/lib/python3.7/dist-packages (from google-auth-oauthlib<0.5,>=0.4.1->tensorboard~=2.6->tensorflow) (1.3.0)\n",
            "Requirement already satisfied: importlib-metadata in /usr/local/lib/python3.7/dist-packages (from markdown>=2.6.8->tensorboard~=2.6->tensorflow) (4.8.2)\n",
            "Requirement already satisfied: pyasn1<0.5.0,>=0.4.6 in /usr/local/lib/python3.7/dist-packages (from pyasn1-modules>=0.2.1->google-auth<3,>=1.6.3->tensorboard~=2.6->tensorflow) (0.4.8)\n",
            "Requirement already satisfied: idna<3,>=2.5 in /usr/local/lib/python3.7/dist-packages (from requests<3,>=2.21.0->tensorboard~=2.6->tensorflow) (2.10)\n",
            "Requirement already satisfied: chardet<4,>=3.0.2 in /usr/local/lib/python3.7/dist-packages (from requests<3,>=2.21.0->tensorboard~=2.6->tensorflow) (3.0.4)\n",
            "Requirement already satisfied: certifi>=2017.4.17 in /usr/local/lib/python3.7/dist-packages (from requests<3,>=2.21.0->tensorboard~=2.6->tensorflow) (2021.10.8)\n",
            "Requirement already satisfied: urllib3!=1.25.0,!=1.25.1,<1.26,>=1.21.1 in /usr/local/lib/python3.7/dist-packages (from requests<3,>=2.21.0->tensorboard~=2.6->tensorflow) (1.24.3)\n",
            "Requirement already satisfied: oauthlib>=3.0.0 in /usr/local/lib/python3.7/dist-packages (from requests-oauthlib>=0.7.0->google-auth-oauthlib<0.5,>=0.4.1->tensorboard~=2.6->tensorflow) (3.1.1)\n",
            "Requirement already satisfied: zipp>=0.5 in /usr/local/lib/python3.7/dist-packages (from importlib-metadata->markdown>=2.6.8->tensorboard~=2.6->tensorflow) (3.6.0)\n"
          ]
        }
      ]
    },
    {
      "cell_type": "code",
      "metadata": {
        "colab": {
          "base_uri": "https://localhost:8080/"
        },
        "id": "kPoBlP7GRJXf",
        "outputId": "c85dc04f-a172-4555-c7c5-1a02555c293b"
      },
      "source": [
        "# Importing the Keras libraries and packages\n",
        "from keras.models import Sequential\n",
        "from keras.layers import Convolution2D\n",
        "from keras.layers import MaxPooling2D\n",
        "from keras.layers import Flatten\n",
        "from keras.layers import Dense\n",
        "\n",
        "# Initialising the CNN\n",
        "classifier = Sequential()\n",
        "\n",
        "# Step 1 - Convolution\n",
        "classifier.add(Convolution2D(32, 3, 3, input_shape =(256,256,3), activation = 'relu'))\n",
        "# Step 2 - Pooling\n",
        "classifier.add(MaxPooling2D(pool_size = (3, 3)))\n",
        "\n",
        "classifier.add(Convolution2D(64, 3, 3, activation = 'relu'))\n",
        "# Step 2 - Pooling\n",
        "classifier.add(MaxPooling2D(pool_size = (3, 3)))\n",
        "\n",
        "\n",
        "\n",
        "\n",
        "# Step 3 - Flattening\n",
        "classifier.add(Flatten())\n",
        "\n",
        "# Step 4 - Full connection\n",
        "classifier.add(Dense(128, activation = 'relu'))\n",
        "classifier.add(Dense(5, activation = 'softmax'))\n",
        "# Compiling the CNN\n",
        "classifier.compile(optimizer = 'adam', loss = 'categorical_crossentropy', metrics = ['accuracy'])\n",
        "\n",
        "from keras.preprocessing.image import ImageDataGenerator\n",
        "\n",
        "train_datagen = ImageDataGenerator(rotation_range=40,\n",
        "                                     width_shift_range=0.2,\n",
        "                                     height_shift_range=0.2,\n",
        "                                  rescale=1./255,\n",
        "                                  shear_range=0.2,\n",
        "                                   zoom_range=0.2,\n",
        "                                    horizontal_flip=True,\n",
        "                                   fill_mode='nearest')\n",
        "\n",
        "test_datagen = ImageDataGenerator(rescale = 1./255)\n",
        "\n",
        "print(classifier.summary())\n",
        "\n",
        "\n",
        "training_1= train_datagen.flow_from_directory('/content/drive/MyDrive/Original_Images/Training/DR',\n",
        "                                                 target_size = (256,256),\n",
        "                                                    batch_size =32,classes=['DR_0','DR_1','DR_2','DR_3','DR_4'],\n",
        "                                                 class_mode = 'categorical',save_format='jpg'\n",
        "                                                  )\n",
        "\n",
        "test_1 = test_datagen.flow_from_directory('/content/drive/MyDrive/Original_Images/test/DR',\n",
        "                                            target_size = (256,256),\n",
        "                                            batch_size = 32,classes=['DR_0','DR_1','DR_2','DR_3','DR_4'],\n",
        "                                            class_mode = 'categorical',save_format='jpg'\n",
        "                                          )"
      ],
      "execution_count": 13,
      "outputs": [
        {
          "output_type": "stream",
          "name": "stdout",
          "text": [
            "Model: \"sequential_5\"\n",
            "_________________________________________________________________\n",
            " Layer (type)                Output Shape              Param #   \n",
            "=================================================================\n",
            " conv2d_10 (Conv2D)          (None, 85, 85, 32)        896       \n",
            "                                                                 \n",
            " max_pooling2d_10 (MaxPoolin  (None, 28, 28, 32)       0         \n",
            " g2D)                                                            \n",
            "                                                                 \n",
            " conv2d_11 (Conv2D)          (None, 9, 9, 64)          18496     \n",
            "                                                                 \n",
            " max_pooling2d_11 (MaxPoolin  (None, 3, 3, 64)         0         \n",
            " g2D)                                                            \n",
            "                                                                 \n",
            " flatten_5 (Flatten)         (None, 576)               0         \n",
            "                                                                 \n",
            " dense_10 (Dense)            (None, 128)               73856     \n",
            "                                                                 \n",
            " dense_11 (Dense)            (None, 5)                 645       \n",
            "                                                                 \n",
            "=================================================================\n",
            "Total params: 93,893\n",
            "Trainable params: 93,893\n",
            "Non-trainable params: 0\n",
            "_________________________________________________________________\n",
            "None\n",
            "Found 413 images belonging to 5 classes.\n",
            "Found 103 images belonging to 5 classes.\n"
          ]
        }
      ]
    },
    {
      "cell_type": "code",
      "metadata": {
        "colab": {
          "base_uri": "https://localhost:8080/"
        },
        "id": "B-FV2asNaWHe",
        "outputId": "99ec56fa-3436-4c64-e110-a6d682ac013f"
      },
      "source": [
        "413/32"
      ],
      "execution_count": 17,
      "outputs": [
        {
          "output_type": "execute_result",
          "data": {
            "text/plain": [
              "12.90625"
            ]
          },
          "metadata": {},
          "execution_count": 17
        }
      ]
    },
    {
      "cell_type": "code",
      "metadata": {
        "colab": {
          "base_uri": "https://localhost:8080/"
        },
        "id": "BiRQcGDGRJax",
        "outputId": "cafb8916-7349-46ad-cf84-90d6cd2bd460"
      },
      "source": [
        "history=classifier.fit(training_1,validation_data=test_1,epochs =100,steps_per_epoch=12)"
      ],
      "execution_count": 18,
      "outputs": [
        {
          "output_type": "stream",
          "name": "stdout",
          "text": [
            "Epoch 1/100\n",
            "12/12 [==============================] - 84s 7s/step - loss: 1.4098 - accuracy: 0.4226 - val_loss: 1.4741 - val_accuracy: 0.3204\n",
            "Epoch 2/100\n",
            "12/12 [==============================] - 80s 7s/step - loss: 1.3826 - accuracy: 0.4488 - val_loss: 1.4344 - val_accuracy: 0.3981\n",
            "Epoch 3/100\n",
            "12/12 [==============================] - 80s 7s/step - loss: 1.3792 - accuracy: 0.4357 - val_loss: 1.4192 - val_accuracy: 0.3786\n",
            "Epoch 4/100\n",
            "12/12 [==============================] - 80s 7s/step - loss: 1.3700 - accuracy: 0.4331 - val_loss: 1.4748 - val_accuracy: 0.3398\n",
            "Epoch 5/100\n",
            "12/12 [==============================] - 80s 7s/step - loss: 1.3420 - accuracy: 0.4751 - val_loss: 1.4132 - val_accuracy: 0.3786\n",
            "Epoch 6/100\n",
            "12/12 [==============================] - 80s 7s/step - loss: 1.3332 - accuracy: 0.4514 - val_loss: 1.4588 - val_accuracy: 0.3786\n",
            "Epoch 7/100\n",
            "12/12 [==============================] - 80s 7s/step - loss: 1.3199 - accuracy: 0.4593 - val_loss: 1.4631 - val_accuracy: 0.3981\n",
            "Epoch 8/100\n",
            "12/12 [==============================] - 80s 7s/step - loss: 1.3202 - accuracy: 0.4751 - val_loss: 1.4729 - val_accuracy: 0.3981\n",
            "Epoch 9/100\n",
            "12/12 [==============================] - 80s 7s/step - loss: 1.3029 - accuracy: 0.4856 - val_loss: 1.4843 - val_accuracy: 0.3981\n",
            "Epoch 10/100\n",
            "12/12 [==============================] - 80s 7s/step - loss: 1.2822 - accuracy: 0.4896 - val_loss: 1.4309 - val_accuracy: 0.3883\n",
            "Epoch 11/100\n",
            "12/12 [==============================] - 80s 7s/step - loss: 1.3021 - accuracy: 0.4777 - val_loss: 1.4496 - val_accuracy: 0.3883\n",
            "Epoch 12/100\n",
            "12/12 [==============================] - 80s 7s/step - loss: 1.2899 - accuracy: 0.4635 - val_loss: 1.4153 - val_accuracy: 0.3689\n",
            "Epoch 13/100\n",
            "12/12 [==============================] - 80s 7s/step - loss: 1.2648 - accuracy: 0.4856 - val_loss: 1.5231 - val_accuracy: 0.3981\n",
            "Epoch 14/100\n",
            "12/12 [==============================] - 80s 7s/step - loss: 1.2692 - accuracy: 0.4856 - val_loss: 1.4693 - val_accuracy: 0.3981\n",
            "Epoch 15/100\n",
            "12/12 [==============================] - 80s 7s/step - loss: 1.2591 - accuracy: 0.4856 - val_loss: 1.4621 - val_accuracy: 0.4175\n",
            "Epoch 16/100\n",
            "12/12 [==============================] - 80s 7s/step - loss: 1.2347 - accuracy: 0.5130 - val_loss: 1.4667 - val_accuracy: 0.3786\n",
            "Epoch 17/100\n",
            "12/12 [==============================] - 82s 7s/step - loss: 1.2593 - accuracy: 0.4908 - val_loss: 1.4873 - val_accuracy: 0.4078\n",
            "Epoch 18/100\n",
            "12/12 [==============================] - 80s 7s/step - loss: 1.2158 - accuracy: 0.5039 - val_loss: 1.5560 - val_accuracy: 0.3786\n",
            "Epoch 19/100\n",
            "12/12 [==============================] - 80s 7s/step - loss: 1.2698 - accuracy: 0.4698 - val_loss: 1.5177 - val_accuracy: 0.3786\n",
            "Epoch 20/100\n",
            "12/12 [==============================] - 80s 7s/step - loss: 1.2392 - accuracy: 0.4882 - val_loss: 1.5486 - val_accuracy: 0.3981\n",
            "Epoch 21/100\n",
            "12/12 [==============================] - 80s 7s/step - loss: 1.2572 - accuracy: 0.5013 - val_loss: 1.4925 - val_accuracy: 0.4272\n",
            "Epoch 22/100\n",
            "12/12 [==============================] - 80s 7s/step - loss: 1.2762 - accuracy: 0.4908 - val_loss: 1.4757 - val_accuracy: 0.3495\n",
            "Epoch 23/100\n",
            "12/12 [==============================] - 80s 7s/step - loss: 1.2516 - accuracy: 0.4829 - val_loss: 1.4895 - val_accuracy: 0.3883\n",
            "Epoch 24/100\n",
            "12/12 [==============================] - 80s 7s/step - loss: 1.2303 - accuracy: 0.5144 - val_loss: 1.5575 - val_accuracy: 0.3981\n",
            "Epoch 25/100\n",
            "12/12 [==============================] - 80s 7s/step - loss: 1.2368 - accuracy: 0.4934 - val_loss: 1.4755 - val_accuracy: 0.3107\n",
            "Epoch 26/100\n",
            "12/12 [==============================] - 79s 7s/step - loss: 1.2666 - accuracy: 0.4829 - val_loss: 1.5366 - val_accuracy: 0.3883\n",
            "Epoch 27/100\n",
            "12/12 [==============================] - 80s 7s/step - loss: 1.2253 - accuracy: 0.5171 - val_loss: 1.5539 - val_accuracy: 0.3689\n",
            "Epoch 28/100\n",
            "12/12 [==============================] - 79s 7s/step - loss: 1.2536 - accuracy: 0.4934 - val_loss: 1.5022 - val_accuracy: 0.3689\n",
            "Epoch 29/100\n",
            "12/12 [==============================] - 79s 7s/step - loss: 1.2296 - accuracy: 0.4777 - val_loss: 1.5426 - val_accuracy: 0.3204\n",
            "Epoch 30/100\n",
            "12/12 [==============================] - 79s 7s/step - loss: 1.2169 - accuracy: 0.5039 - val_loss: 1.4821 - val_accuracy: 0.3981\n",
            "Epoch 31/100\n",
            "12/12 [==============================] - 79s 7s/step - loss: 1.2142 - accuracy: 0.5039 - val_loss: 1.5261 - val_accuracy: 0.3592\n",
            "Epoch 32/100\n",
            "12/12 [==============================] - 79s 7s/step - loss: 1.1880 - accuracy: 0.5276 - val_loss: 1.4600 - val_accuracy: 0.3786\n",
            "Epoch 33/100\n",
            "12/12 [==============================] - 79s 7s/step - loss: 1.1923 - accuracy: 0.5092 - val_loss: 1.5149 - val_accuracy: 0.3495\n",
            "Epoch 34/100\n",
            "12/12 [==============================] - 79s 7s/step - loss: 1.1691 - accuracy: 0.5144 - val_loss: 1.5061 - val_accuracy: 0.3398\n",
            "Epoch 35/100\n",
            "12/12 [==============================] - 79s 7s/step - loss: 1.2044 - accuracy: 0.5223 - val_loss: 1.5015 - val_accuracy: 0.3883\n",
            "Epoch 36/100\n",
            "12/12 [==============================] - 79s 7s/step - loss: 1.2208 - accuracy: 0.5026 - val_loss: 1.5090 - val_accuracy: 0.3495\n",
            "Epoch 37/100\n",
            "12/12 [==============================] - 79s 7s/step - loss: 1.2223 - accuracy: 0.5171 - val_loss: 1.5284 - val_accuracy: 0.3981\n",
            "Epoch 38/100\n",
            "12/12 [==============================] - 79s 7s/step - loss: 1.1723 - accuracy: 0.5407 - val_loss: 1.5753 - val_accuracy: 0.3301\n",
            "Epoch 39/100\n",
            "12/12 [==============================] - 80s 7s/step - loss: 1.1853 - accuracy: 0.5208 - val_loss: 1.4485 - val_accuracy: 0.3883\n",
            "Epoch 40/100\n",
            "12/12 [==============================] - 80s 7s/step - loss: 1.1844 - accuracy: 0.5276 - val_loss: 1.4742 - val_accuracy: 0.3786\n",
            "Epoch 41/100\n",
            "12/12 [==============================] - 79s 7s/step - loss: 1.1998 - accuracy: 0.5144 - val_loss: 1.4958 - val_accuracy: 0.3204\n",
            "Epoch 42/100\n",
            "12/12 [==============================] - 79s 7s/step - loss: 1.1858 - accuracy: 0.5249 - val_loss: 1.6125 - val_accuracy: 0.3592\n",
            "Epoch 43/100\n",
            "12/12 [==============================] - 80s 7s/step - loss: 1.2085 - accuracy: 0.5144 - val_loss: 1.4962 - val_accuracy: 0.3301\n",
            "Epoch 44/100\n",
            "12/12 [==============================] - 79s 7s/step - loss: 1.1722 - accuracy: 0.5118 - val_loss: 1.4802 - val_accuracy: 0.3883\n",
            "Epoch 45/100\n",
            "12/12 [==============================] - 79s 7s/step - loss: 1.1957 - accuracy: 0.4908 - val_loss: 1.4625 - val_accuracy: 0.3495\n",
            "Epoch 46/100\n",
            "12/12 [==============================] - 79s 7s/step - loss: 1.1458 - accuracy: 0.5381 - val_loss: 1.5107 - val_accuracy: 0.3786\n",
            "Epoch 47/100\n",
            "12/12 [==============================] - 79s 7s/step - loss: 1.1695 - accuracy: 0.5276 - val_loss: 1.4549 - val_accuracy: 0.3786\n",
            "Epoch 48/100\n",
            "12/12 [==============================] - 79s 7s/step - loss: 1.1966 - accuracy: 0.4961 - val_loss: 1.4947 - val_accuracy: 0.3689\n",
            "Epoch 49/100\n",
            "12/12 [==============================] - 79s 7s/step - loss: 1.1564 - accuracy: 0.5302 - val_loss: 1.4884 - val_accuracy: 0.3495\n",
            "Epoch 50/100\n",
            "12/12 [==============================] - 80s 7s/step - loss: 1.1804 - accuracy: 0.5171 - val_loss: 1.4930 - val_accuracy: 0.3689\n",
            "Epoch 51/100\n",
            "12/12 [==============================] - 79s 7s/step - loss: 1.1643 - accuracy: 0.5276 - val_loss: 1.5170 - val_accuracy: 0.3495\n",
            "Epoch 52/100\n",
            "12/12 [==============================] - 79s 7s/step - loss: 1.1514 - accuracy: 0.5381 - val_loss: 1.4982 - val_accuracy: 0.3689\n",
            "Epoch 53/100\n",
            "12/12 [==============================] - 79s 7s/step - loss: 1.1932 - accuracy: 0.5118 - val_loss: 1.5318 - val_accuracy: 0.3495\n",
            "Epoch 54/100\n",
            "12/12 [==============================] - 79s 7s/step - loss: 1.1750 - accuracy: 0.5171 - val_loss: 1.5035 - val_accuracy: 0.3786\n",
            "Epoch 55/100\n",
            "12/12 [==============================] - 79s 7s/step - loss: 1.1442 - accuracy: 0.5328 - val_loss: 1.5067 - val_accuracy: 0.3495\n",
            "Epoch 56/100\n",
            "12/12 [==============================] - 79s 7s/step - loss: 1.1438 - accuracy: 0.5459 - val_loss: 1.5454 - val_accuracy: 0.3398\n",
            "Epoch 57/100\n",
            "12/12 [==============================] - 79s 7s/step - loss: 1.1037 - accuracy: 0.5354 - val_loss: 1.5520 - val_accuracy: 0.3689\n",
            "Epoch 58/100\n",
            "12/12 [==============================] - 79s 7s/step - loss: 1.1461 - accuracy: 0.5092 - val_loss: 1.4802 - val_accuracy: 0.3981\n",
            "Epoch 59/100\n",
            "12/12 [==============================] - 79s 7s/step - loss: 1.1460 - accuracy: 0.5354 - val_loss: 1.4837 - val_accuracy: 0.3786\n",
            "Epoch 60/100\n",
            "12/12 [==============================] - 79s 7s/step - loss: 1.1889 - accuracy: 0.5039 - val_loss: 1.5118 - val_accuracy: 0.3592\n",
            "Epoch 61/100\n",
            "12/12 [==============================] - 79s 7s/step - loss: 1.1529 - accuracy: 0.5381 - val_loss: 1.4961 - val_accuracy: 0.3883\n",
            "Epoch 62/100\n",
            "12/12 [==============================] - 79s 7s/step - loss: 1.1272 - accuracy: 0.5328 - val_loss: 1.4645 - val_accuracy: 0.3786\n",
            "Epoch 63/100\n",
            "12/12 [==============================] - 79s 7s/step - loss: 1.1430 - accuracy: 0.5354 - val_loss: 1.5849 - val_accuracy: 0.3204\n",
            "Epoch 64/100\n",
            "12/12 [==============================] - 79s 7s/step - loss: 1.1471 - accuracy: 0.5591 - val_loss: 1.5052 - val_accuracy: 0.3689\n",
            "Epoch 65/100\n",
            "12/12 [==============================] - 79s 7s/step - loss: 1.1383 - accuracy: 0.5381 - val_loss: 1.4920 - val_accuracy: 0.3592\n",
            "Epoch 66/100\n",
            "12/12 [==============================] - 79s 7s/step - loss: 1.1659 - accuracy: 0.4882 - val_loss: 1.5288 - val_accuracy: 0.3883\n",
            "Epoch 67/100\n",
            "12/12 [==============================] - 79s 7s/step - loss: 1.1342 - accuracy: 0.5459 - val_loss: 1.4578 - val_accuracy: 0.3883\n",
            "Epoch 68/100\n",
            "12/12 [==============================] - 79s 7s/step - loss: 1.1571 - accuracy: 0.5092 - val_loss: 1.4722 - val_accuracy: 0.3786\n",
            "Epoch 69/100\n",
            "12/12 [==============================] - 79s 7s/step - loss: 1.1403 - accuracy: 0.5223 - val_loss: 1.5139 - val_accuracy: 0.3204\n",
            "Epoch 70/100\n",
            "12/12 [==============================] - 79s 7s/step - loss: 1.1334 - accuracy: 0.5407 - val_loss: 1.4702 - val_accuracy: 0.3495\n",
            "Epoch 71/100\n",
            "12/12 [==============================] - 79s 7s/step - loss: 1.1385 - accuracy: 0.5302 - val_loss: 1.5211 - val_accuracy: 0.3495\n",
            "Epoch 72/100\n",
            "12/12 [==============================] - 79s 7s/step - loss: 1.1446 - accuracy: 0.5276 - val_loss: 1.5258 - val_accuracy: 0.3592\n",
            "Epoch 73/100\n",
            "12/12 [==============================] - 79s 7s/step - loss: 1.1387 - accuracy: 0.5156 - val_loss: 1.4827 - val_accuracy: 0.3786\n",
            "Epoch 74/100\n",
            "12/12 [==============================] - 78s 7s/step - loss: 1.1480 - accuracy: 0.5249 - val_loss: 1.4837 - val_accuracy: 0.3689\n",
            "Epoch 75/100\n",
            "12/12 [==============================] - 79s 7s/step - loss: 1.1236 - accuracy: 0.5144 - val_loss: 1.4848 - val_accuracy: 0.3495\n",
            "Epoch 76/100\n",
            "12/12 [==============================] - 79s 7s/step - loss: 1.0996 - accuracy: 0.5354 - val_loss: 1.4798 - val_accuracy: 0.3495\n",
            "Epoch 77/100\n",
            "12/12 [==============================] - 79s 7s/step - loss: 1.1218 - accuracy: 0.5223 - val_loss: 1.4719 - val_accuracy: 0.3689\n",
            "Epoch 78/100\n",
            "12/12 [==============================] - 79s 7s/step - loss: 1.1103 - accuracy: 0.5354 - val_loss: 1.4546 - val_accuracy: 0.4175\n",
            "Epoch 79/100\n",
            "12/12 [==============================] - 78s 7s/step - loss: 1.0908 - accuracy: 0.5381 - val_loss: 1.5064 - val_accuracy: 0.3495\n",
            "Epoch 80/100\n",
            "12/12 [==============================] - 79s 7s/step - loss: 1.0747 - accuracy: 0.5354 - val_loss: 1.4948 - val_accuracy: 0.3592\n",
            "Epoch 81/100\n",
            "12/12 [==============================] - 79s 7s/step - loss: 1.0856 - accuracy: 0.5433 - val_loss: 1.5168 - val_accuracy: 0.3689\n",
            "Epoch 82/100\n",
            "12/12 [==============================] - 78s 7s/step - loss: 1.1066 - accuracy: 0.5328 - val_loss: 1.5463 - val_accuracy: 0.3883\n",
            "Epoch 83/100\n",
            "12/12 [==============================] - 79s 7s/step - loss: 1.1681 - accuracy: 0.5223 - val_loss: 1.4540 - val_accuracy: 0.3981\n",
            "Epoch 84/100\n",
            "12/12 [==============================] - 79s 7s/step - loss: 1.1155 - accuracy: 0.5512 - val_loss: 1.4720 - val_accuracy: 0.3204\n",
            "Epoch 85/100\n",
            "12/12 [==============================] - 78s 7s/step - loss: 1.0933 - accuracy: 0.5381 - val_loss: 1.4799 - val_accuracy: 0.3592\n",
            "Epoch 86/100\n",
            "12/12 [==============================] - 79s 7s/step - loss: 1.1402 - accuracy: 0.5469 - val_loss: 1.5272 - val_accuracy: 0.3786\n",
            "Epoch 87/100\n",
            "12/12 [==============================] - 79s 7s/step - loss: 1.1223 - accuracy: 0.5144 - val_loss: 1.4854 - val_accuracy: 0.3495\n",
            "Epoch 88/100\n",
            "12/12 [==============================] - 79s 7s/step - loss: 1.1173 - accuracy: 0.5354 - val_loss: 1.4476 - val_accuracy: 0.3398\n",
            "Epoch 89/100\n",
            "12/12 [==============================] - 79s 7s/step - loss: 1.0624 - accuracy: 0.5617 - val_loss: 1.4508 - val_accuracy: 0.3592\n",
            "Epoch 90/100\n",
            "12/12 [==============================] - 79s 7s/step - loss: 1.0864 - accuracy: 0.5538 - val_loss: 1.4949 - val_accuracy: 0.3204\n",
            "Epoch 91/100\n",
            "12/12 [==============================] - 79s 7s/step - loss: 1.1319 - accuracy: 0.5302 - val_loss: 1.4931 - val_accuracy: 0.3398\n",
            "Epoch 92/100\n",
            "12/12 [==============================] - 78s 7s/step - loss: 1.1004 - accuracy: 0.5302 - val_loss: 1.4895 - val_accuracy: 0.3689\n",
            "Epoch 93/100\n",
            "12/12 [==============================] - 79s 7s/step - loss: 1.0459 - accuracy: 0.5669 - val_loss: 1.5425 - val_accuracy: 0.3592\n",
            "Epoch 94/100\n",
            "12/12 [==============================] - 79s 7s/step - loss: 1.0942 - accuracy: 0.5354 - val_loss: 1.5260 - val_accuracy: 0.3301\n",
            "Epoch 95/100\n",
            "12/12 [==============================] - 79s 7s/step - loss: 1.0586 - accuracy: 0.5495 - val_loss: 1.3949 - val_accuracy: 0.3786\n",
            "Epoch 96/100\n",
            "12/12 [==============================] - 79s 7s/step - loss: 1.1015 - accuracy: 0.5328 - val_loss: 1.5762 - val_accuracy: 0.3398\n",
            "Epoch 97/100\n",
            "12/12 [==============================] - 79s 7s/step - loss: 1.1009 - accuracy: 0.5197 - val_loss: 1.4815 - val_accuracy: 0.3883\n",
            "Epoch 98/100\n",
            "12/12 [==============================] - 79s 7s/step - loss: 1.0931 - accuracy: 0.5643 - val_loss: 1.5309 - val_accuracy: 0.3592\n",
            "Epoch 99/100\n",
            "12/12 [==============================] - 79s 7s/step - loss: 1.1014 - accuracy: 0.5538 - val_loss: 1.4368 - val_accuracy: 0.4078\n",
            "Epoch 100/100\n",
            "12/12 [==============================] - 79s 7s/step - loss: 1.0781 - accuracy: 0.5433 - val_loss: 1.5275 - val_accuracy: 0.3592\n"
          ]
        }
      ]
    },
    {
      "cell_type": "code",
      "metadata": {
        "id": "ffhAEAbAYiRZ"
      },
      "source": [
        ""
      ],
      "execution_count": null,
      "outputs": []
    },
    {
      "cell_type": "code",
      "metadata": {
        "id": "Vl_4KBRCYifs"
      },
      "source": [
        ""
      ],
      "execution_count": null,
      "outputs": []
    },
    {
      "cell_type": "code",
      "metadata": {
        "id": "L_hGnXG5RJeK"
      },
      "source": [
        ""
      ],
      "execution_count": null,
      "outputs": []
    },
    {
      "cell_type": "code",
      "metadata": {
        "colab": {
          "base_uri": "https://localhost:8080/"
        },
        "id": "iHCRyIwuRJhU",
        "outputId": "6e863786-b71d-4dd9-f97d-f98c9350ba45"
      },
      "source": [
        "print(classifier.evaluate(training_1))\n",
        "classifier.save('my_model_dr_256.hdf5')"
      ],
      "execution_count": 20,
      "outputs": [
        {
          "output_type": "stream",
          "name": "stdout",
          "text": [
            "13/13 [==============================] - 64s 5s/step - loss: 1.0435 - accuracy: 0.5593\n",
            "[1.0434561967849731, 0.5593220591545105]\n"
          ]
        }
      ]
    },
    {
      "cell_type": "code",
      "metadata": {
        "colab": {
          "base_uri": "https://localhost:8080/"
        },
        "id": "1dboL-cZYmX6",
        "outputId": "de21e681-9839-4fde-f8ef-b274d260229a"
      },
      "source": [
        "#Confution Matrix and Classification Report\n",
        "import numpy as np\n",
        "from sklearn.metrics import classification_report, confusion_matrix\n",
        "validation_generator=test_1\n",
        "batch_size = 32\n",
        "steps = 103/ batch_size\n",
        "Y_pred = classifier.predict_generator(validation_generator,steps)\n",
        "y_pred = np.argmax(Y_pred, axis=1)\n",
        "print('Confusion Matrix')\n",
        "print(confusion_matrix(validation_generator.classes, y_pred))\n",
        "print('Classification Report')\n",
        "target_names = ['DR_0','DR_1','DR_2','DR_3','DR_4']\n",
        "print(classification_report(validation_generator.classes, y_pred, target_names=target_names))"
      ],
      "execution_count": 21,
      "outputs": [
        {
          "output_type": "stream",
          "name": "stderr",
          "text": [
            "/usr/local/lib/python3.7/dist-packages/ipykernel_launcher.py:7: UserWarning: `Model.predict_generator` is deprecated and will be removed in a future version. Please use `Model.predict`, which supports generators.\n",
            "  import sys\n"
          ]
        },
        {
          "output_type": "stream",
          "name": "stdout",
          "text": [
            "Confusion Matrix\n",
            "[[ 1  0 28  5  0]\n",
            " [ 0  0  5  0  0]\n",
            " [ 7  0 16  9  0]\n",
            " [ 1  0 17  1  0]\n",
            " [ 2  0  4  7  0]]\n",
            "Classification Report\n",
            "              precision    recall  f1-score   support\n",
            "\n",
            "        DR_0       0.09      0.03      0.04        34\n",
            "        DR_1       0.00      0.00      0.00         5\n",
            "        DR_2       0.23      0.50      0.31        32\n",
            "        DR_3       0.05      0.05      0.05        19\n",
            "        DR_4       0.00      0.00      0.00        13\n",
            "\n",
            "    accuracy                           0.17       103\n",
            "   macro avg       0.07      0.12      0.08       103\n",
            "weighted avg       0.11      0.17      0.12       103\n",
            "\n"
          ]
        },
        {
          "output_type": "stream",
          "name": "stderr",
          "text": [
            "/usr/local/lib/python3.7/dist-packages/sklearn/metrics/_classification.py:1272: UndefinedMetricWarning: Precision and F-score are ill-defined and being set to 0.0 in labels with no predicted samples. Use `zero_division` parameter to control this behavior.\n",
            "  _warn_prf(average, modifier, msg_start, len(result))\n"
          ]
        }
      ]
    },
    {
      "cell_type": "code",
      "metadata": {
        "colab": {
          "base_uri": "https://localhost:8080/",
          "height": 758
        },
        "id": "20_H0IQEYmbK",
        "outputId": "56a22a3c-5f4a-4e74-f04c-eea5e6e6f027"
      },
      "source": [
        "from keras.utils.vis_utils import plot_model\n",
        "plot_model(classifier, to_file='model.png')"
      ],
      "execution_count": 25,
      "outputs": [
        {
          "output_type": "execute_result",
          "data": {
            "image/png": "[encoded data removed]",
            "text/plain": [
              "<IPython.core.display.Image object>"
            ]
          },
          "metadata": {},
          "execution_count": 25
        }
      ]
    },
    {
      "cell_type": "code",
      "metadata": {
        "id": "-BsSUQo1Zf-e"
      },
      "source": [
        ""
      ],
      "execution_count": null,
      "outputs": []
    },
    {
      "cell_type": "code",
      "metadata": {
        "colab": {
          "base_uri": "https://localhost:8080/",
          "height": 573
        },
        "id": "MjRB42EuZgBe",
        "outputId": "e63e82c1-d527-44a4-cc87-e5343a985978"
      },
      "source": [
        "\n",
        "import pandas as pd\n",
        "import numpy as np \n",
        "import itertools\n",
        "import keras\n",
        "from sklearn import metrics\n",
        "from sklearn.metrics import confusion_matrix\n",
        "from keras.preprocessing.image import ImageDataGenerator, img_to_array, load_img \n",
        "from keras.models import Sequential \n",
        "from keras import optimizers\n",
        "from keras.preprocessing import image\n",
        "from keras.layers import Dropout, Flatten, Dense \n",
        "from keras import applications \n",
        "from keras.utils.np_utils import to_categorical \n",
        "import matplotlib.pyplot as plt \n",
        "import matplotlib.image as mpimg\n",
        "%matplotlib inline\n",
        "import math \n",
        "import datetime\n",
        "import time\n",
        "\n",
        "\n",
        "#Graphing our training and validation\n",
        "acc = history.history['accuracy']\n",
        "val_acc = history.history['val_accuracy']\n",
        "loss = history.history['loss']\n",
        "val_loss = history.history['val_loss']\n",
        "epochs = range(len(acc))\n",
        "plt.plot(epochs, acc, 'r', label='Training acc')\n",
        "plt.plot(epochs, val_acc, 'b', label='Validation acc')\n",
        "plt.title(\"Training and validation accuracy\")\n",
        "plt.ylabel(\"accuracy\") \n",
        "plt.xlabel(\"epoch\")\n",
        "plt.legend()\n",
        "plt.figure()\n",
        "plt.plot(epochs, loss, 'r', label='Training loss')\n",
        "plt.plot(epochs, val_loss, 'b', label='Validation loss')\n",
        "plt.title(\"Training and validation loss\")\n",
        "plt.ylabel(\"loss\") \n",
        "plt.xlabel(\"epoch\")\n",
        "plt.legend()\n",
        "plt.show()\n"
      ],
      "execution_count": 24,
      "outputs": [
        {
          "output_type": "display_data",
          "data": {
            "image/png": "[encoded data removed]",
            "text/plain": [
              "<Figure size 432x288 with 1 Axes>"
            ]
          },
          "metadata": {
            "needs_background": "light"
          }
        },
        {
          "output_type": "display_data",
          "data": {
            "image/png": "[encoded data removed]",
            "text/plain": [
              "<Figure size 432x288 with 1 Axes>"
            ]
          },
          "metadata": {
            "needs_background": "light"
          }
        }
      ]
    },
    {
      "cell_type": "code",
      "metadata": {
        "id": "kAeDXVkJf3YA"
      },
      "source": [
        ""
      ],
      "execution_count": null,
      "outputs": []
    },
    {
      "cell_type": "code",
      "metadata": {
        "id": "ei58-lGAf3cB"
      },
      "source": [
        ""
      ],
      "execution_count": null,
      "outputs": []
    },
    {
      "cell_type": "markdown",
      "metadata": {
        "id": "D912EylgBdRa"
      },
      "source": [
        "# New Section"
      ]
    },
    {
      "cell_type": "code",
      "metadata": {
        "colab": {
          "base_uri": "https://localhost:8080/"
        },
        "id": "-aQ9DGHtBdf7",
        "outputId": "23a3b4ac-e34d-4e4b-e24a-7b2c4a08f69e"
      },
      "source": [
        "\n",
        "from keras.layers import Input, Lambda, Dense, Flatten\n",
        "from keras.models import Model\n",
        "from keras.applications.vgg16 import VGG16\n",
        "from keras.applications.vgg16 import preprocess_input\n",
        "from keras.preprocessing import image\n",
        "from keras.preprocessing.image import ImageDataGenerator\n",
        "from keras.models import Sequential\n",
        "import numpy as np\n",
        "from glob import glob\n",
        "import matplotlib.pyplot as plt\n",
        "\n",
        "# re-size all the images to this\n",
        "IMAGE_SIZE = [224, 224]\n",
        "\n",
        "train_path = '/content/drive/MyDrive/Original_Images/Training/DR'\n",
        "valid_path = '/content/drive/MyDrive/Original_Images/test/DR'\n",
        "\n",
        "# add preprocessing layer to the front of VGG\n",
        "vgg = VGG16(input_shape=IMAGE_SIZE + [3], include_top=False)\n",
        "\n",
        "# don't train existing weights\n",
        "for layer in vgg.layers:\n",
        "  layer.trainable =False\n",
        "  \n",
        "\n",
        "  \n",
        "  # useful for getting number of classes\n",
        "\n",
        "  \n",
        "\n",
        "# our layers - you can add more if you want\n",
        "x = Flatten()(vgg.output)\n",
        "# x = Dense(1000, activation='relu')(x)\n",
        "prediction = Dense(5, activation='softmax')(x)\n",
        "\n",
        "# create a model object\n",
        "model = Model(inputs=vgg.input, outputs=prediction)\n",
        "\n",
        "# view the structure of the model\n",
        "model.summary()\n",
        "\n",
        "# tell the model what cost and optimization method to use\n",
        "model.compile(\n",
        "  loss='categorical_crossentropy',\n",
        "  optimizer='adam',\n",
        "  metrics=['accuracy']\n",
        ")\n",
        "\n",
        "\n",
        "from keras.preprocessing.image import ImageDataGenerator\n",
        "\n",
        "train_datagen = ImageDataGenerator(rescale = 1./255,\n",
        "                                   shear_range = 0.2,\n",
        "                                   zoom_range = 0.2,\n",
        "                                   horizontal_flip = True)\n",
        "\n",
        "test_datagen = ImageDataGenerator(rescale = 1./255)\n",
        "\n",
        "training_set = train_datagen.flow_from_directory('/content/drive/MyDrive/Original_Images/Training/DR',\n",
        "                                                 target_size = (224, 224),\n",
        "                                                 batch_size = 16,\n",
        "                                                 class_mode = 'categorical')\n",
        "\n",
        "test_set = test_datagen.flow_from_directory('/content/drive/My Drive/Original_Images/test/DR',\n",
        "                                            target_size = (224, 224),\n",
        "                                            batch_size = 16,\n",
        "                                            class_mode = 'categorical')"
      ],
      "execution_count": 31,
      "outputs": [
        {
          "output_type": "stream",
          "name": "stdout",
          "text": [
            "Model: \"model_2\"\n",
            "_________________________________________________________________\n",
            " Layer (type)                Output Shape              Param #   \n",
            "=================================================================\n",
            " input_3 (InputLayer)        [(None, 224, 224, 3)]     0         \n",
            "                                                                 \n",
            " block1_conv1 (Conv2D)       (None, 224, 224, 64)      1792      \n",
            "                                                                 \n",
            " block1_conv2 (Conv2D)       (None, 224, 224, 64)      36928     \n",
            "                                                                 \n",
            " block1_pool (MaxPooling2D)  (None, 112, 112, 64)      0         \n",
            "                                                                 \n",
            " block2_conv1 (Conv2D)       (None, 112, 112, 128)     73856     \n",
            "                                                                 \n",
            " block2_conv2 (Conv2D)       (None, 112, 112, 128)     147584    \n",
            "                                                                 \n",
            " block2_pool (MaxPooling2D)  (None, 56, 56, 128)       0         \n",
            "                                                                 \n",
            " block3_conv1 (Conv2D)       (None, 56, 56, 256)       295168    \n",
            "                                                                 \n",
            " block3_conv2 (Conv2D)       (None, 56, 56, 256)       590080    \n",
            "                                                                 \n",
            " block3_conv3 (Conv2D)       (None, 56, 56, 256)       590080    \n",
            "                                                                 \n",
            " block3_pool (MaxPooling2D)  (None, 28, 28, 256)       0         \n",
            "                                                                 \n",
            " block4_conv1 (Conv2D)       (None, 28, 28, 512)       1180160   \n",
            "                                                                 \n",
            " block4_conv2 (Conv2D)       (None, 28, 28, 512)       2359808   \n",
            "                                                                 \n",
            " block4_conv3 (Conv2D)       (None, 28, 28, 512)       2359808   \n",
            "                                                                 \n",
            " block4_pool (MaxPooling2D)  (None, 14, 14, 512)       0         \n",
            "                                                                 \n",
            " block5_conv1 (Conv2D)       (None, 14, 14, 512)       2359808   \n",
            "                                                                 \n",
            " block5_conv2 (Conv2D)       (None, 14, 14, 512)       2359808   \n",
            "                                                                 \n",
            " block5_conv3 (Conv2D)       (None, 14, 14, 512)       2359808   \n",
            "                                                                 \n",
            " block5_pool (MaxPooling2D)  (None, 7, 7, 512)         0         \n",
            "                                                                 \n",
            " flatten_8 (Flatten)         (None, 25088)             0         \n",
            "                                                                 \n",
            " dense_14 (Dense)            (None, 5)                 125445    \n",
            "                                                                 \n",
            "=================================================================\n",
            "Total params: 14,840,133\n",
            "Trainable params: 125,445\n",
            "Non-trainable params: 14,714,688\n",
            "_________________________________________________________________\n",
            "Found 413 images belonging to 5 classes.\n",
            "Found 103 images belonging to 5 classes.\n"
          ]
        }
      ]
    },
    {
      "cell_type": "code",
      "metadata": {
        "colab": {
          "base_uri": "https://localhost:8080/"
        },
        "id": "RJs7wm3TKxtb",
        "outputId": "a3207e27-1a70-4ae4-a01e-db6143cce26f"
      },
      "source": [
        "413/16"
      ],
      "execution_count": 29,
      "outputs": [
        {
          "output_type": "execute_result",
          "data": {
            "text/plain": [
              "25.8125"
            ]
          },
          "metadata": {},
          "execution_count": 29
        }
      ]
    },
    {
      "cell_type": "code",
      "metadata": {
        "colab": {
          "base_uri": "https://localhost:8080/",
          "height": 1000
        },
        "id": "waTU73LdB2mT",
        "outputId": "e69c0230-0cda-4e59-da82-ebd32d6bf445"
      },
      "source": [
        "\n",
        "# fit the model\n",
        "r = model.fit_generator(\n",
        "  training_set,\n",
        "  validation_data=test_set,\n",
        "  epochs=30,\n",
        "  steps_per_epoch=25\n",
        ")\n",
        "# loss\n",
        "plt.plot(r.history['loss'], label='train loss')\n",
        "plt.plot(r.history['val_loss'], label='val loss')\n",
        "plt.legend()\n",
        "plt.show()\n",
        "plt.savefig('LossVal_loss')\n",
        "\n",
        "\n",
        "import tensorflow as tf\n",
        "\n",
        "from keras.models import load_model\n",
        "\n",
        "model.save('new_model_vgg_16.h5')"
      ],
      "execution_count": 32,
      "outputs": [
        {
          "metadata": {
            "tags": null
          },
          "name": "stderr",
          "output_type": "stream",
          "text": [
            "/usr/local/lib/python3.7/dist-packages/ipykernel_launcher.py:7: UserWarning: `Model.fit_generator` is deprecated and will be removed in a future version. Please use `Model.fit`, which supports generators.\n",
            "  import sys\n"
          ]
        },
        {
          "output_type": "stream",
          "name": "stdout",
          "text": [
            "Epoch 1/30\n",
            "25/25 [==============================] - 285s 11s/step - loss: 1.9524 - accuracy: 0.3451 - val_loss: 1.7689 - val_accuracy: 0.3592\n",
            "Epoch 2/30\n",
            "25/25 [==============================] - 282s 11s/step - loss: 1.3446 - accuracy: 0.4610 - val_loss: 1.5638 - val_accuracy: 0.3107\n",
            "Epoch 3/30\n",
            "25/25 [==============================] - 283s 11s/step - loss: 1.3659 - accuracy: 0.4559 - val_loss: 1.6450 - val_accuracy: 0.2913\n",
            "Epoch 4/30\n",
            "25/25 [==============================] - 283s 11s/step - loss: 1.2294 - accuracy: 0.5239 - val_loss: 1.5903 - val_accuracy: 0.2718\n",
            "Epoch 5/30\n",
            "25/25 [==============================] - 281s 11s/step - loss: 1.2751 - accuracy: 0.4987 - val_loss: 1.6378 - val_accuracy: 0.3204\n",
            "Epoch 6/30\n",
            "25/25 [==============================] - 281s 11s/step - loss: 1.2475 - accuracy: 0.5189 - val_loss: 1.9138 - val_accuracy: 0.3398\n",
            "Epoch 7/30\n",
            "25/25 [==============================] - 281s 11s/step - loss: 1.2897 - accuracy: 0.4912 - val_loss: 1.4862 - val_accuracy: 0.3883\n",
            "Epoch 8/30\n",
            "25/25 [==============================] - 281s 11s/step - loss: 1.0893 - accuracy: 0.5693 - val_loss: 1.5059 - val_accuracy: 0.4175\n",
            "Epoch 9/30\n",
            "25/25 [==============================] - 281s 11s/step - loss: 1.1541 - accuracy: 0.5416 - val_loss: 1.5447 - val_accuracy: 0.4272\n",
            "Epoch 10/30\n",
            "25/25 [==============================] - 281s 11s/step - loss: 1.0528 - accuracy: 0.5894 - val_loss: 1.6946 - val_accuracy: 0.4660\n",
            "Epoch 11/30\n",
            "25/25 [==============================] - 281s 11s/step - loss: 1.0921 - accuracy: 0.5768 - val_loss: 2.1679 - val_accuracy: 0.3107\n",
            "Epoch 12/30\n",
            "25/25 [==============================] - 281s 11s/step - loss: 1.0986 - accuracy: 0.6071 - val_loss: 1.6685 - val_accuracy: 0.3786\n",
            "Epoch 13/30\n",
            "25/25 [==============================] - 281s 11s/step - loss: 0.9765 - accuracy: 0.6020 - val_loss: 1.5347 - val_accuracy: 0.3981\n",
            "Epoch 14/30\n",
            "25/25 [==============================] - 281s 11s/step - loss: 0.9698 - accuracy: 0.6222 - val_loss: 1.7963 - val_accuracy: 0.3786\n",
            "Epoch 15/30\n",
            "25/25 [==============================] - 281s 11s/step - loss: 1.0941 - accuracy: 0.5995 - val_loss: 1.6372 - val_accuracy: 0.3689\n",
            "Epoch 16/30\n",
            "25/25 [==============================] - 281s 11s/step - loss: 1.0828 - accuracy: 0.6045 - val_loss: 1.7527 - val_accuracy: 0.3786\n",
            "Epoch 17/30\n",
            "25/25 [==============================] - 281s 11s/step - loss: 0.9795 - accuracy: 0.5743 - val_loss: 1.9155 - val_accuracy: 0.3981\n",
            "Epoch 18/30\n",
            "25/25 [==============================] - 282s 11s/step - loss: 0.9871 - accuracy: 0.6247 - val_loss: 1.5104 - val_accuracy: 0.4369\n",
            "Epoch 19/30\n",
            "25/25 [==============================] - 281s 11s/step - loss: 0.8053 - accuracy: 0.6625 - val_loss: 1.6402 - val_accuracy: 0.3495\n",
            "Epoch 20/30\n",
            "25/25 [==============================] - 281s 11s/step - loss: 0.9787 - accuracy: 0.6171 - val_loss: 1.7330 - val_accuracy: 0.4563\n",
            "Epoch 21/30\n",
            "25/25 [==============================] - 281s 11s/step - loss: 1.1117 - accuracy: 0.5945 - val_loss: 2.0384 - val_accuracy: 0.3592\n",
            "Epoch 22/30\n",
            "25/25 [==============================] - 282s 11s/step - loss: 0.8721 - accuracy: 0.6851 - val_loss: 2.1493 - val_accuracy: 0.3981\n",
            "Epoch 23/30\n",
            "25/25 [==============================] - 281s 11s/step - loss: 1.0616 - accuracy: 0.5693 - val_loss: 2.2688 - val_accuracy: 0.3592\n",
            "Epoch 24/30\n",
            "25/25 [==============================] - 281s 11s/step - loss: 0.8083 - accuracy: 0.6952 - val_loss: 1.7850 - val_accuracy: 0.3786\n",
            "Epoch 25/30\n",
            "25/25 [==============================] - 281s 11s/step - loss: 0.8103 - accuracy: 0.6801 - val_loss: 2.0768 - val_accuracy: 0.3398\n",
            "Epoch 26/30\n",
            "25/25 [==============================] - 281s 11s/step - loss: 0.7525 - accuracy: 0.7128 - val_loss: 1.6571 - val_accuracy: 0.4854\n",
            "Epoch 27/30\n",
            "25/25 [==============================] - 281s 11s/step - loss: 0.8325 - accuracy: 0.6549 - val_loss: 2.1278 - val_accuracy: 0.3786\n",
            "Epoch 28/30\n",
            "25/25 [==============================] - 282s 11s/step - loss: 0.8302 - accuracy: 0.6599 - val_loss: 1.5936 - val_accuracy: 0.4272\n",
            "Epoch 29/30\n",
            "25/25 [==============================] - 282s 11s/step - loss: 0.7073 - accuracy: 0.7003 - val_loss: 1.8194 - val_accuracy: 0.3786\n",
            "Epoch 30/30\n",
            "25/25 [==============================] - 282s 11s/step - loss: 0.8251 - accuracy: 0.6675 - val_loss: 1.5336 - val_accuracy: 0.4757\n"
          ]
        },
        {
          "output_type": "display_data",
          "data": {
            "image/png": "[encoded data removed]",
            "text/plain": [
              "<Figure size 432x288 with 1 Axes>"
            ]
          },
          "metadata": {
            "needs_background": "light"
          }
        },
        {
          "output_type": "display_data",
          "data": {
            "text/plain": [
              "<Figure size 432x288 with 0 Axes>"
            ]
          },
          "metadata": {}
        }
      ]
    },
    {
      "cell_type": "code",
      "metadata": {
        "id": "ZUNTiaDzB2yZ"
      },
      "source": [
        ""
      ],
      "execution_count": null,
      "outputs": []
    },
    {
      "cell_type": "code",
      "metadata": {
        "colab": {
          "base_uri": "https://localhost:8080/",
          "height": 281
        },
        "id": "K-p49FpGB24p",
        "outputId": "cd1f2d4e-156a-49a6-d00c-adc1ae09e7f2"
      },
      "source": [
        "# accuracies\n",
        "plt.plot(r.history['accuracy'], label='train acc')\n",
        "plt.plot(r.history['val_accuracy'], label='val acc')\n",
        "plt.legend()\n",
        "plt.show()\n",
        "plt.savefig('AccVal_acc')\n"
      ],
      "execution_count": 33,
      "outputs": [
        {
          "output_type": "display_data",
          "data": {
            "image/png": "[encoded data removed]",
            "text/plain": [
              "<Figure size 432x288 with 1 Axes>"
            ]
          },
          "metadata": {
            "needs_background": "light"
          }
        },
        {
          "output_type": "display_data",
          "data": {
            "text/plain": [
              "<Figure size 432x288 with 0 Axes>"
            ]
          },
          "metadata": {}
        }
      ]
    },
    {
      "cell_type": "code",
      "metadata": {
        "colab": {
          "base_uri": "https://localhost:8080/"
        },
        "id": "Vqk2xZ_HCCEa",
        "outputId": "0604871f-5e89-44b0-d038-350e218ebbc7"
      },
      "source": [
        "#Confution Matrix and Classification Report\n",
        "from sklearn.metrics import classification_report, confusion_matrix\n",
        "validation_generator=test_set\n",
        "Y_pred = model.predict_generator(validation_generator,103)\n",
        "y_pred = np.argmax(Y_pred, axis=1)\n",
        "print('Confusion Matrix')\n",
        "print(confusion_matrix(validation_generator.classes, y_pred))\n",
        "print('Classification Report')\n",
        "target_names = ['DR_0','DR_1','DR_2','DR_3','DR_4']\n",
        "print(classification_report(validation_generator.classes, y_pred, target_names=target_names))"
      ],
      "execution_count": 34,
      "outputs": [
        {
          "output_type": "stream",
          "name": "stderr",
          "text": [
            "/usr/local/lib/python3.7/dist-packages/ipykernel_launcher.py:4: UserWarning: `Model.predict_generator` is deprecated and will be removed in a future version. Please use `Model.predict`, which supports generators.\n",
            "  after removing the cwd from sys.path.\n"
          ]
        },
        {
          "output_type": "stream",
          "name": "stdout",
          "text": [
            "WARNING:tensorflow:Your input ran out of data; interrupting training. Make sure that your dataset or generator can generate at least `steps_per_epoch * epochs` batches (in this case, 103 batches). You may need to use the repeat() function when building your dataset.\n",
            "Confusion Matrix\n",
            "[[14  1 14  2  3]\n",
            " [ 1  1  1  1  1]\n",
            " [13  1 11  4  3]\n",
            " [ 9  0  5  4  1]\n",
            " [ 5  0  6  2  0]]\n",
            "Classification Report\n",
            "              precision    recall  f1-score   support\n",
            "\n",
            "        DR_0       0.33      0.41      0.37        34\n",
            "        DR_1       0.33      0.20      0.25         5\n",
            "        DR_2       0.30      0.34      0.32        32\n",
            "        DR_3       0.31      0.21      0.25        19\n",
            "        DR_4       0.00      0.00      0.00        13\n",
            "\n",
            "    accuracy                           0.29       103\n",
            "   macro avg       0.25      0.23      0.24       103\n",
            "weighted avg       0.28      0.29      0.28       103\n",
            "\n"
          ]
        }
      ]
    },
    {
      "cell_type": "code",
      "metadata": {
        "colab": {
          "base_uri": "https://localhost:8080/"
        },
        "id": "GsLm-Gs-CCHK",
        "outputId": "f89d9aa3-d7a6-4110-b490-4e652cce3c91"
      },
      "source": [
        "print(model.evaluate(test_set))"
      ],
      "execution_count": 35,
      "outputs": [
        {
          "output_type": "stream",
          "name": "stdout",
          "text": [
            "7/7 [==============================] - 58s 8s/step - loss: 1.5336 - accuracy: 0.4757\n",
            "[1.5335688591003418, 0.4757281541824341]\n"
          ]
        }
      ]
    }
  ]
}